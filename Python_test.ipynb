{
  "nbformat": 4,
  "nbformat_minor": 0,
  "metadata": {
    "colab": {
      "name": "Python test.ipynb",
      "provenance": []
    },
    "kernelspec": {
      "name": "python3",
      "display_name": "Python 3"
    }
  },
  "cells": [
    {
      "cell_type": "code",
      "metadata": {
        "id": "FdPtos7OSTR2"
      },
      "source": [
        "import os\n",
        "import json\n",
        "\n",
        "json_file = json.load(open(\"./source_file_2.json\"))\n",
        "\n",
        "WATCHERS = []\n",
        "MANAGERS = [[]]\n",
        "ORGS = []\n",
        "\n",
        "NEW_ARR = {}\n",
        "FULL_ARR = []\n",
        "PRIORITY = []\n",
        "\n",
        "data_managers = {}\n",
        "data_watchers = {}\n",
        "\n",
        "for i in json_file:\n",
        "    PRIORITY.append(i[\"priority\"])\n",
        "\n",
        "for i in json_file:\n",
        "    for j in reversed(PRIORITY):\n",
        "        if i[\"priority\"] == j:\n",
        "            NEW_ARR = i\n",
        "            FULL_ARR.append(NEW_ARR)\n",
        "\n",
        "for i in FULL_ARR:\n",
        "    if i[\"name\"] not in ORGS:\n",
        "        ORGS.append(i[\"name\"])\n",
        "    for manager in i[\"managers\"]:\n",
        "        if manager not in MANAGERS:\n",
        "            MANAGERS.append(manager)\n",
        "            data_managers[manager] = []\n",
        "    for manager in MANAGERS:\n",
        "        if manager in i[\"managers\"]:\n",
        "            data_managers[manager].append(i[\"name\"])\n",
        "    for watcher in i[\"watchers\"]:\n",
        "        if watcher not in WATCHERS:\n",
        "            WATCHERS.append(watcher)\n",
        "            data_watchers[watcher] = []\n",
        "    for watcher in WATCHERS:\n",
        "        if watcher in i[\"watchers\"]:\n",
        "            data_watchers[watcher].append(i[\"name\"])\n",
        "\n",
        "\n",
        "f = open(\"managers.json\", \"a\")\n",
        "f.write(json.dumps(data_managers))\n",
        "f.close()\n",
        "\n",
        "f = open(\"watchers.json\", \"a\")\n",
        "f.write(json.dumps(data_watchers))\n",
        "f.close()"
      ],
      "execution_count": 27,
      "outputs": []
    }
  ]
}